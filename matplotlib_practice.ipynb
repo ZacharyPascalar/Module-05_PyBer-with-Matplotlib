{
 "cells": [
  {
   "cell_type": "code",
   "execution_count": 55,
   "id": "arranged-actor",
   "metadata": {},
   "outputs": [],
   "source": [
    "%run import_dependencies.ipynb"
   ]
  },
  {
   "cell_type": "code",
   "execution_count": 56,
   "id": "scientific-image",
   "metadata": {},
   "outputs": [],
   "source": [
    "def create_i_matlab_plot():\n",
    "    # annotate charts\n",
    "    plt.figure(figsize=(10, 8))\n",
    "#     plt.bar(x_axis, y_axis, label=\"Boston\", color=\"darkgreen\") #, linewidth=1, marker=\"*\")\n",
    "#     plt.barh(x_axis, y_axis, label=\"Boston\", color=\"magenta\") #, linewidth=1, marker=\"*\")\n",
    "#     plt.plot(x_axis, y_axis, 'o', label=\"Boston\", color=\"darkgreen\") #, linewidth=1, marker=\"*\")\n",
    "    plt.scatter(x_axis, y_axis) #, 'o', label=\"Boston\", color=\"red\") #, linewidth=1, marker=\"*\")\n",
    "    plt.xlabel(\"Date\")\n",
    "    plt.ylabel(\"Fare($)\")\n",
    "#     plt.ylim(0, 50)\n",
    "    plt.gca().invert_yaxis()\n",
    "    plt.title(\"PyBer Fare by Month\")\n",
    "    # add a grid\n",
    "    plt.grid()\n",
    "    plt.legend()\n",
    "    \n",
    "def create_oo_plot():\n",
    "# method 1\n",
    "#     fig, ax = plt.subplots() #create a figure\n",
    "#     ax.plot(x_axis, y_axis) # define the axes\n",
    "# method 2\n",
    "    fig = plt.figure(figsize=(10, 8))\n",
    "    ax = fig.add_subplot()\n",
    "    ax.barh(x_axis, y_axis, label=\"Boston\", color=\"cyan\") #, marker=\"o\", linewidth=2)\n",
    "    ax.set_ylabel(\"Date\")\n",
    "    ax.set_xlabel(\"Fare($)\")\n",
    "#     ax.gca().invert_yaxis()\n",
    "#     ax.set_ylim(0, 50)\n",
    "    ax.set_title(\"PyBer Fare by Month\") \n",
    "    ax.legend()\n",
    "    ax.grid()\n",
    "    \n",
    "def create_oo_plot_fast():\n",
    "    ax = plt.axes()\n",
    "    ax.plot(x_axis, y_axis)"
   ]
  },
  {
   "cell_type": "code",
   "execution_count": 54,
   "id": "instrumental-titanium",
   "metadata": {},
   "outputs": [
    {
     "name": "stderr",
     "output_type": "stream",
     "text": [
      "No handles with labels found to put in legend.\n"
     ]
    },
    {
     "data": {
      "image/png": "[encoded data removed]",
      "text/plain": [
       "<Figure size 720x576 with 1 Axes>"
      ]
     },
     "metadata": {
      "needs_background": "light"
     },
     "output_type": "display_data"
    }
   ],
   "source": [
    "create_i_matlab_plot()\n",
    "# create_oo_plot()\n",
    "# create_oo_plot_fast()"
   ]
  },
  {
   "cell_type": "code",
   "execution_count": 46,
   "id": "veterinary-olive",
   "metadata": {},
   "outputs": [],
   "source": [
    "# annotate charts"
   ]
  },
  {
   "cell_type": "code",
   "execution_count": 47,
   "id": "comparative-princeton",
   "metadata": {},
   "outputs": [],
   "source": [
    "plt.show()"
   ]
  },
  {
   "cell_type": "code",
   "execution_count": null,
   "id": "demanding-registration",
   "metadata": {},
   "outputs": [],
   "source": []
  }
 ],
 "metadata": {
  "kernelspec": {
   "display_name": "Python 3",
   "language": "python",
   "name": "python3"
  },
  "language_info": {
   "codemirror_mode": {
    "name": "ipython",
    "version": 3
   },
   "file_extension": ".py",
   "mimetype": "text/x-python",
   "name": "python",
   "nbconvert_exporter": "python",
   "pygments_lexer": "ipython3",
   "version": "3.8.5"
  },
  "toc": {
   "base_numbering": 1,
   "nav_menu": {},
   "number_sections": true,
   "sideBar": true,
   "skip_h1_title": false,
   "title_cell": "Table of Contents",
   "title_sidebar": "Contents",
   "toc_cell": false,
   "toc_position": {},
   "toc_section_display": true,
   "toc_window_display": false
  },
  "varInspector": {
   "cols": {
    "lenName": 16,
    "lenType": 16,
    "lenVar": 40
   },
   "kernels_config": {
    "python": {
     "delete_cmd_postfix": "",
     "delete_cmd_prefix": "del ",
     "library": "var_list.py",
     "varRefreshCmd": "print(var_dic_list())"
    },
    "r": {
     "delete_cmd_postfix": ") ",
     "delete_cmd_prefix": "rm(",
     "library": "var_list.r",
     "varRefreshCmd": "cat(var_dic_list()) "
    }
   },
   "types_to_exclude": [
    "module",
    "function",
    "builtin_function_or_method",
    "instance",
    "_Feature"
   ],
   "window_display": false
  }
 },
 "nbformat": 4,
 "nbformat_minor": 5
}
